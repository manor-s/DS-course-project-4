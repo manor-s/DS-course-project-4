{
  "nbformat": 4,
  "nbformat_minor": 0,
  "metadata": {
    "colab": {
      "provenance": [],
      "authorship_tag": "ABX9TyPTVVqbnlME0LBpaZhH4ew6",
      "include_colab_link": true
    },
    "kernelspec": {
      "name": "python3",
      "display_name": "Python 3"
    },
    "language_info": {
      "name": "python"
    }
  },
  "cells": [
    {
      "cell_type": "markdown",
      "metadata": {
        "id": "view-in-github",
        "colab_type": "text"
      },
      "source": [
        "<a href=\"https://colab.research.google.com/github/manor-s/DS-course-project-4/blob/main/Classification_Project_Manor.ipynb\" target=\"_parent\"><img src=\"https://colab.research.google.com/assets/colab-badge.svg\" alt=\"Open In Colab\"/></a>"
      ]
    },
    {
      "cell_type": "code",
      "execution_count": 1,
      "metadata": {
        "id": "_bVQDUfV1W7i",
        "outputId": "d33dccae-829e-4b89-80e8-302c385a2bed",
        "colab": {
          "base_uri": "https://localhost:8080/"
        }
      },
      "outputs": [
        {
          "output_type": "stream",
          "name": "stdout",
          "text": [
            "Mounted at /content/drive\n"
          ]
        }
      ],
      "source": [
        "from google.colab import drive\n",
        "drive.mount('/content/drive')\n"
      ]
    },
    {
      "cell_type": "code",
      "source": [
        "import pandas as pd\n",
        "csv_file_path = '/content/drive/My Drive/e-commerce project/Churn_Modelling.csv'\n",
        "churn = pd.read_csv(csv_file_path)\n",
        "\n"
      ],
      "metadata": {
        "collapsed": true,
        "id": "_vnJGABQ49Nt"
      },
      "execution_count": 40,
      "outputs": []
    },
    {
      "cell_type": "markdown",
      "source": [
        "# Label Description and EDA summary"
      ],
      "metadata": {
        "id": "Lv8E9StbAlaA"
      }
    },
    {
      "cell_type": "markdown",
      "source": [
        "## Label Description:\n",
        "\n",
        "* **RowNumber** - Serial Row Number (from 1 to 10000)\n",
        "\n",
        "* **CustomerId** - Unique Ids for bank customer identification\n",
        "\n",
        "* **Surname** - Customer's last name (2932 unique values)\n",
        "\n",
        "* **CreditScore** - Credit score of the customer\n",
        "\n",
        "* **Geography** - The country from which the customer belongs\n",
        "\n",
        "* **Gender** - Male or Female\n",
        "\n",
        "* **Age** - Age of the customer\n",
        "\n",
        "* **Tenure** - Number of years for which the customer has been with the bank\n",
        "\n",
        "* **Balance** - Bank balance of the customer\n",
        "\n",
        "* **NumOfProducts** - Number of bank products the customer is utilising\n",
        "\n",
        "* **HasCrCard** - Binary Flag for whether the customer holds a credit card with the bank or not\n",
        "\n",
        "* **IsActiveMember** - Binary Flag for whether the customer is an active member with the bank or not\n",
        "\n",
        "* **EstimatedSalary** - Estimated salary of the customer in Dollars\n",
        "\n",
        "* **Exited** - Binary flag 1 if the customer closed account with bank and 0 if the customer is retained\n",
        "\n"
      ],
      "metadata": {
        "id": "ThD0rro6Xk-_"
      }
    },
    {
      "cell_type": "markdown",
      "source": [
        "## Observations related to churn behavior:\n",
        "* No unexplainable outliers are present.\n",
        "* No evident interrelationship among the numerical variables.\n",
        "* **Product Count**: Customers with three or more products exhibit a significantly higher churn rate. Excluding this group could be considered during the modeling process.\n",
        "* **Geography**: German customers show a distinct churn pattern compared to those from France and Spain.\n",
        "* **Gender**: Female customers have a higher churn rate than male customers.\n",
        "* **Active Membership**: Active members tend to have a lower churn rate.\n",
        "* **Balance**: Accounts with a balance of zero behave differently than those with a positive balance, potentially warranting a separate categorical consideration.\n",
        "* **Credit Score**: Lower credit scores may correlate with increased churn risk.\n",
        "* **Age**: Churn rates appear notably higher among customers aged 40 to 60.\n",
        "\n"
      ],
      "metadata": {
        "id": "5JbXiRszpg4W"
      }
    },
    {
      "cell_type": "markdown",
      "source": [
        "# Pre-Processing"
      ],
      "metadata": {
        "id": "vLUFxrt2H2At"
      }
    },
    {
      "cell_type": "code",
      "source": [
        "import numpy as np\n",
        "\n",
        "## Making a new categorical variable of Zero Balance or Blance Percentile:\n",
        "\n",
        "# Define minimum and maximum for positive balances\n",
        "min_balance = churn.loc[churn['Balance'] > 0, 'Balance'].min()\n",
        "max_balance = churn['Balance'].max()\n",
        "\n",
        "# Calculate evenly spaced cutoffs (10 intervals) from min_balance to max_balance\n",
        "cutoffs = np.linspace(min_balance, max_balance, 10)\n",
        "\n",
        "# Define labels for each decile (10 labels, one for each decile)\n",
        "decile_labels = [f'Decile {i+1}' for i in range(10)]\n",
        "\n",
        "# Assign each balance to the appropriate decile based on these evenly spaced cutoffs\n",
        "# Add an additional bin edge (-np.inf) for zero balances\n",
        "churn['Balance_Category'] = pd.cut(\n",
        "  churn['Balance'],\n",
        "  bins=[-np.inf, 0] + list(cutoffs),  # Add zero as a separate category\n",
        "  labels=['Zero Balance'] + decile_labels,     # Add \"Zero Balance\" label\n",
        "  include_lowest=True\n",
        ")\n",
        "\n",
        "\n",
        "## Making Dummies\n",
        "\n",
        "churn_from_col_4 = churn.iloc[:, 3:]\n",
        "churn_dummies = pd.get_dummies(churn_from_col_4, drop_first=False)\n"
      ],
      "metadata": {
        "id": "w6k2FH4ESA9j"
      },
      "execution_count": 41,
      "outputs": []
    },
    {
      "cell_type": "code",
      "source": [
        "churn_dummies.info() # describe(include='all').T"
      ],
      "metadata": {
        "id": "29rvB384WyIa",
        "outputId": "b3abc402-27d1-47b2-c3df-f22a3dec612e",
        "colab": {
          "base_uri": "https://localhost:8080/"
        }
      },
      "execution_count": 42,
      "outputs": [
        {
          "output_type": "stream",
          "name": "stdout",
          "text": [
            "<class 'pandas.core.frame.DataFrame'>\n",
            "RangeIndex: 10000 entries, 0 to 9999\n",
            "Data columns (total 25 columns):\n",
            " #   Column                         Non-Null Count  Dtype  \n",
            "---  ------                         --------------  -----  \n",
            " 0   CreditScore                    10000 non-null  int64  \n",
            " 1   Age                            10000 non-null  int64  \n",
            " 2   Tenure                         10000 non-null  int64  \n",
            " 3   Balance                        10000 non-null  float64\n",
            " 4   NumOfProducts                  10000 non-null  int64  \n",
            " 5   HasCrCard                      10000 non-null  int64  \n",
            " 6   IsActiveMember                 10000 non-null  int64  \n",
            " 7   EstimatedSalary                10000 non-null  float64\n",
            " 8   Exited                         10000 non-null  int64  \n",
            " 9   Geography_France               10000 non-null  bool   \n",
            " 10  Geography_Germany              10000 non-null  bool   \n",
            " 11  Geography_Spain                10000 non-null  bool   \n",
            " 12  Gender_Female                  10000 non-null  bool   \n",
            " 13  Gender_Male                    10000 non-null  bool   \n",
            " 14  Balance_Category_Zero Balance  10000 non-null  bool   \n",
            " 15  Balance_Category_Decile 1      10000 non-null  bool   \n",
            " 16  Balance_Category_Decile 2      10000 non-null  bool   \n",
            " 17  Balance_Category_Decile 3      10000 non-null  bool   \n",
            " 18  Balance_Category_Decile 4      10000 non-null  bool   \n",
            " 19  Balance_Category_Decile 5      10000 non-null  bool   \n",
            " 20  Balance_Category_Decile 6      10000 non-null  bool   \n",
            " 21  Balance_Category_Decile 7      10000 non-null  bool   \n",
            " 22  Balance_Category_Decile 8      10000 non-null  bool   \n",
            " 23  Balance_Category_Decile 9      10000 non-null  bool   \n",
            " 24  Balance_Category_Decile 10     10000 non-null  bool   \n",
            "dtypes: bool(16), float64(2), int64(7)\n",
            "memory usage: 859.5 KB\n"
          ]
        }
      ]
    }
  ]
}